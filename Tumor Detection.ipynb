{
  "nbformat": 4,
  "nbformat_minor": 0,
  "metadata": {
    "colab": {
      "provenance": [],
      "gpuType": "T4"
    },
    "kernelspec": {
      "name": "python3",
      "display_name": "Python 3"
    },
    "language_info": {
      "name": "python"
    },
    "accelerator": "GPU"
  },
  "cells": [
    {
      "cell_type": "markdown",
      "source": [
        "#CNN Project: Medical Image Analysis for Tumor Detection\n"
      ],
      "metadata": {
        "id": "-032ZBr5-A3l"
      }
    },
    {
      "cell_type": "code",
      "source": [
        "!mkdir -p ~/.kaggle\n",
        "!cp kaggle.json ~/.kaggle/"
      ],
      "metadata": {
        "id": "h_siCnR68mV5",
        "outputId": "0883111e-1261-432b-df2a-61c05893bf23",
        "colab": {
          "base_uri": "https://localhost:8080/"
        }
      },
      "execution_count": null,
      "outputs": [
        {
          "output_type": "stream",
          "name": "stdout",
          "text": [
            "cp: cannot stat 'kaggle.json': No such file or directory\n"
          ]
        }
      ]
    },
    {
      "cell_type": "code",
      "source": [
        "!kaggle datasets download -d masoudnickparvar/brain-tumor-mri-dataset"
      ],
      "metadata": {
        "colab": {
          "base_uri": "https://localhost:8080/"
        },
        "id": "zly6NEFU8xis",
        "outputId": "29800468-40b0-4e94-8a1d-c2a6822a3b16"
      },
      "execution_count": null,
      "outputs": [
        {
          "output_type": "stream",
          "name": "stdout",
          "text": [
            "Warning: Your Kaggle API key is readable by other users on this system! To fix this, you can run 'chmod 600 /root/.kaggle/kaggle.json'\n",
            "Dataset URL: https://www.kaggle.com/datasets/masoudnickparvar/brain-tumor-mri-dataset\n",
            "License(s): CC0-1.0\n",
            "brain-tumor-mri-dataset.zip: Skipping, found more recently modified local copy (use --force to force download)\n"
          ]
        }
      ]
    },
    {
      "cell_type": "code",
      "source": [
        "import zipfile\n",
        "zip_ref = zipfile.ZipFile('/content/brain-tumor-mri-dataset.zip', 'r')\n",
        "zip_ref.extractall('/content')\n",
        "zip_ref.close()"
      ],
      "metadata": {
        "id": "zjNk9qI5-tL5"
      },
      "execution_count": null,
      "outputs": []
    },
    {
      "cell_type": "markdown",
      "source": [
        "#Data Preprocessing"
      ],
      "metadata": {
        "id": "2QnT_CAZ9hnV"
      }
    },
    {
      "cell_type": "code",
      "source": [
        "!pip install opencv-python\n",
        "import cv2\n",
        "import os\n",
        "import numpy as np\n",
        "import matplotlib.pyplot as plt\n",
        "from tensorflow.keras.preprocessing.image import ImageDataGenerator\n",
        "from tensorflow import keras\n",
        "\n",
        "train_dir = '/content/Training'\n",
        "test_dir = '/content/Testing'\n",
        "img_size = 224\n",
        "\n",
        "def preprocess_image(image):\n",
        "    image = cv2. resize(image, (img_size, img_size))\n",
        "    image = image.astype('float32') / 255.0\n",
        "    return image\n",
        "\n",
        "def load_images_from_directory(directory):\n",
        "    images = []\n",
        "    labels = []\n",
        "    for label in os.listdir(directory):\n",
        "        label_path = os.path.join(directory, label)\n",
        "        for image_file in os.listdir(label_path):\n",
        "            image_path = os.path.join(label_path, image_file)\n",
        "            image = cv2.imread(image_path)\n",
        "            if image is not None:\n",
        "               image = preprocess_image(image)\n",
        "               images.append(image)\n",
        "               labels.append(label)\n",
        "    return np.array(images), np.array(labels)\n",
        "\n",
        "X_train, y_train = load_images_from_directory(train_dir)\n",
        "X_test, y_test = load_images_from_directory(test_dir)\n",
        "\n",
        "print(f'Training data shape: {X_train.shape}')\n",
        "print(f'Testing data shape: {X_test.shape}')"
      ],
      "metadata": {
        "colab": {
          "base_uri": "https://localhost:8080/"
        },
        "id": "hCZ6SWbHLy_p",
        "outputId": "1dd9c018-c512-4e40-d9d1-7f2a27f2771d"
      },
      "execution_count": null,
      "outputs": [
        {
          "output_type": "stream",
          "name": "stdout",
          "text": [
            "Requirement already satisfied: opencv-python in /usr/local/lib/python3.10/dist-packages (4.8.0.76)\n",
            "Requirement already satisfied: numpy>=1.21.2 in /usr/local/lib/python3.10/dist-packages (from opencv-python) (1.25.2)\n",
            "Training data shape: (5712, 224, 224, 3)\n",
            "Testing data shape: (1311, 224, 224, 3)\n"
          ]
        }
      ]
    },
    {
      "cell_type": "markdown",
      "source": [
        "#Data Augmentation"
      ],
      "metadata": {
        "id": "xQM39hc59npG"
      }
    },
    {
      "cell_type": "code",
      "source": [
        "# Define the data augmentation generator\n",
        "datagen = ImageDataGenerator(\n",
        "    rotation_range=40,\n",
        "    width_shift_range=0.2,\n",
        "    height_shift_range=0.2,\n",
        "    shear_range=0.2,\n",
        "    zoom_range=0.2,\n",
        "    horizontal_flip=True,\n",
        "    fill_mode='nearest'\n",
        ")\n",
        "\n",
        "# Apply data augmentation to the training set\n",
        "datagen.fit(X_train)"
      ],
      "metadata": {
        "id": "_bP6kNxP87HN"
      },
      "execution_count": null,
      "outputs": []
    },
    {
      "cell_type": "markdown",
      "source": [
        "#Model Building"
      ],
      "metadata": {
        "id": "ruoMDMEE9xSR"
      }
    },
    {
      "cell_type": "code",
      "source": [
        "from tensorflow.keras.applications import VGG16\n",
        "from tensorflow.keras.models import Sequential\n",
        "from tensorflow.keras.layers import Flatten, Dense, Dropout\n",
        "base_model = VGG16(weights='imagenet', include_top=False, input_shape=(img_size, img_size, 3))\n",
        "base_model.trainable = False #Freeze the base model\n",
        "\n",
        "model = Sequential([\n",
        "    base_model,\n",
        "    Flatten(),\n",
        "    Dense(256, activation='relu'),\n",
        "    Dropout(0.5),\n",
        "    Dense(1, activation='sigmoid')\n",
        "])\n",
        "\n",
        "model.compile(optimizer='adam', loss='binary_crossentropy', metrics=['accuracy'])\n",
        "model.summary()"
      ],
      "metadata": {
        "colab": {
          "base_uri": "https://localhost:8080/"
        },
        "id": "n4eoAredP46X",
        "outputId": "25d7ab89-4fb5-4d23-c4ec-125f37b87a65"
      },
      "execution_count": null,
      "outputs": [
        {
          "output_type": "stream",
          "name": "stdout",
          "text": [
            "Model: \"sequential\"\n",
            "_________________________________________________________________\n",
            " Layer (type)                Output Shape              Param #   \n",
            "=================================================================\n",
            " vgg16 (Functional)          (None, 7, 7, 512)         14714688  \n",
            "                                                                 \n",
            " flatten (Flatten)           (None, 25088)             0         \n",
            "                                                                 \n",
            " dense (Dense)               (None, 256)               6422784   \n",
            "                                                                 \n",
            " dropout (Dropout)           (None, 256)               0         \n",
            "                                                                 \n",
            " dense_1 (Dense)             (None, 1)                 257       \n",
            "                                                                 \n",
            "=================================================================\n",
            "Total params: 21137729 (80.63 MB)\n",
            "Trainable params: 6423041 (24.50 MB)\n",
            "Non-trainable params: 14714688 (56.13 MB)\n",
            "_________________________________________________________________\n"
          ]
        }
      ]
    },
    {
      "cell_type": "markdown",
      "source": [
        "#Model Training"
      ],
      "metadata": {
        "id": "O1p5ougKRbDB"
      }
    },
    {
      "source": [
        "import numpy as np\n",
        "from sklearn.preprocessing import LabelEncoder\n",
        "\n",
        "# Assuming 'y_train' and 'y_test' are your string labels\n",
        "label_encoder = LabelEncoder()\n",
        "y_train_encoded = label_encoder.fit_transform(y_train)\n",
        "y_test_encoded = label_encoder.transform(y_test)\n",
        "\n",
        "# Now use the encoded labels in model.fit\n",
        "history = model.fit(datagen.flow(X_train, y_train_encoded, batch_size=32),\n",
        "                    validation_data=(X_test, y_test_encoded),\n",
        "                    epochs=10)"
      ],
      "cell_type": "code",
      "metadata": {
        "colab": {
          "base_uri": "https://localhost:8080/"
        },
        "id": "6HOWLSFJR5ER",
        "outputId": "980fc230-d31f-4b93-88cd-62c5acf4611c"
      },
      "execution_count": null,
      "outputs": [
        {
          "metadata": {
            "tags": null
          },
          "name": "stdout",
          "output_type": "stream",
          "text": [
            "Epoch 1/10\n",
            "179/179 [==============================] - 118s 590ms/step - loss: -4166.0156 - accuracy: 0.2346 - val_loss: -12226.3408 - val_accuracy: 0.2334\n",
            "Epoch 2/10\n",
            "179/179 [==============================] - 89s 495ms/step - loss: -29044.4238 - accuracy: 0.2344 - val_loss: -49882.3477 - val_accuracy: 0.2334\n",
            "Epoch 3/10\n",
            "179/179 [==============================] - 89s 498ms/step - loss: -81415.6562 - accuracy: 0.2344 - val_loss: -114237.2188 - val_accuracy: 0.2334\n",
            "Epoch 4/10\n",
            "179/179 [==============================] - 84s 471ms/step - loss: -158823.3594 - accuracy: 0.2344 - val_loss: -202598.3906 - val_accuracy: 0.2334\n",
            "Epoch 5/10\n",
            "179/179 [==============================] - 86s 478ms/step - loss: -260480.5312 - accuracy: 0.2344 - val_loss: -314285.2812 - val_accuracy: 0.2334\n",
            "Epoch 6/10\n",
            "179/179 [==============================] - 88s 490ms/step - loss: -382543.3750 - accuracy: 0.2344 - val_loss: -446984.7812 - val_accuracy: 0.2334\n",
            "Epoch 7/10\n",
            "179/179 [==============================] - 87s 484ms/step - loss: -527970.1250 - accuracy: 0.2344 - val_loss: -599190.8750 - val_accuracy: 0.2334\n",
            "Epoch 8/10\n",
            "179/179 [==============================] - 87s 488ms/step - loss: -696472.8125 - accuracy: 0.2344 - val_loss: -772066.8750 - val_accuracy: 0.2334\n",
            "Epoch 9/10\n",
            "179/179 [==============================] - 85s 477ms/step - loss: -880561.3750 - accuracy: 0.2344 - val_loss: -964183.0000 - val_accuracy: 0.2334\n",
            "Epoch 10/10\n",
            "179/179 [==============================] - 86s 478ms/step - loss: -1078076.7500 - accuracy: 0.2344 - val_loss: -1169807.0000 - val_accuracy: 0.2334\n"
          ]
        }
      ]
    },
    {
      "cell_type": "markdown",
      "source": [
        "#Model Evaluation"
      ],
      "metadata": {
        "id": "HPdmce6l9sJl"
      }
    },
    {
      "cell_type": "code",
      "source": [
        "import numpy as np\n",
        "from sklearn.preprocessing import LabelEncoder\n",
        "\n",
        "# Assuming 'y_train' and 'y_test' are your string labels\n",
        "label_encoder = LabelEncoder()\n",
        "y_train_encoded = label_encoder.fit_transform(y_train)  # Encode training labels\n",
        "y_test_encoded = label_encoder.transform(y_test)  # Encode test labels\n",
        "\n",
        "#Evaluate the model\n",
        "loss, accuracy = model.evaluate(X_test, y_test_encoded)\n",
        "print(f'Test accuracy: {accuracy*100:.2f}%')\n",
        "\n",
        "#Classification Report\n",
        "from sklearn.metrics import classification_report\n",
        "y_pred = (model.predict(X_test)>0.5).astype(\"int32\")\n",
        "\n",
        "# Decode predicted labels to match the string format of y_test\n",
        "y_pred_decoded = label_encoder.inverse_transform(y_pred.flatten())\n",
        "print(classification_report(y_test, y_pred_decoded))\n",
        "\n",
        "#Confusion Matrix\n",
        "from sklearn.metrics import confusion_matrix\n",
        "import seaborn as sns\n",
        "cm = confusion_matrix(y_test, y_pred_decoded)\n",
        "sns.heatmap(cm, annot=True, fmt='d', cmap='Blues')\n",
        "plt.title('Confusion Matrix')\n",
        "plt.xlabel('Predicted')\n",
        "plt.ylabel('Actual')\n",
        "plt.show()"
      ],
      "metadata": {
        "colab": {
          "base_uri": "https://localhost:8080/",
          "height": 839
        },
        "id": "EUZIlr1QWVrn",
        "outputId": "620dcd19-aa39-4420-ae9c-ea076962c33d"
      },
      "execution_count": null,
      "outputs": [
        {
          "output_type": "stream",
          "name": "stdout",
          "text": [
            "41/41 [==============================] - 5s 127ms/step - loss: -1169807.0000 - accuracy: 0.2334\n",
            "Test accuracy: 23.34%\n",
            "41/41 [==============================] - 5s 124ms/step\n",
            "              precision    recall  f1-score   support\n",
            "\n",
            "      glioma       0.00      0.00      0.00       300\n",
            "  meningioma       0.23      1.00      0.38       306\n",
            "     notumor       0.00      0.00      0.00       405\n",
            "   pituitary       0.00      0.00      0.00       300\n",
            "\n",
            "    accuracy                           0.23      1311\n",
            "   macro avg       0.06      0.25      0.09      1311\n",
            "weighted avg       0.05      0.23      0.09      1311\n",
            "\n"
          ]
        },
        {
          "output_type": "stream",
          "name": "stderr",
          "text": [
            "/usr/local/lib/python3.10/dist-packages/sklearn/metrics/_classification.py:1344: UndefinedMetricWarning: Precision and F-score are ill-defined and being set to 0.0 in labels with no predicted samples. Use `zero_division` parameter to control this behavior.\n",
            "  _warn_prf(average, modifier, msg_start, len(result))\n",
            "/usr/local/lib/python3.10/dist-packages/sklearn/metrics/_classification.py:1344: UndefinedMetricWarning: Precision and F-score are ill-defined and being set to 0.0 in labels with no predicted samples. Use `zero_division` parameter to control this behavior.\n",
            "  _warn_prf(average, modifier, msg_start, len(result))\n",
            "/usr/local/lib/python3.10/dist-packages/sklearn/metrics/_classification.py:1344: UndefinedMetricWarning: Precision and F-score are ill-defined and being set to 0.0 in labels with no predicted samples. Use `zero_division` parameter to control this behavior.\n",
            "  _warn_prf(average, modifier, msg_start, len(result))\n"
          ]
        },
        {
          "output_type": "display_data",
          "data": {
            "text/plain": [
              "<Figure size 640x480 with 2 Axes>"
            ],
            "image/png": "[encoded data removed]"
          },
          "metadata": {}
        }
      ]
    }
  ]
}